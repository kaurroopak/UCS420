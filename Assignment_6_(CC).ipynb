{
  "nbformat": 4,
  "nbformat_minor": 0,
  "metadata": {
    "colab": {
      "provenance": [],
      "authorship_tag": "ABX9TyMaWhtlYUztX6beMfTnDHwB",
      "include_colab_link": true
    },
    "kernelspec": {
      "name": "python3",
      "display_name": "Python 3"
    },
    "language_info": {
      "name": "python"
    }
  },
  "cells": [
    {
      "cell_type": "markdown",
      "metadata": {
        "id": "view-in-github",
        "colab_type": "text"
      },
      "source": [
        "<a href=\"https://colab.research.google.com/github/kaurroopak/UCS712/blob/main/Assignment_6_(CC).ipynb\" target=\"_parent\"><img src=\"https://colab.research.google.com/assets/colab-badge.svg\" alt=\"Open In Colab\"/></a>"
      ]
    },
    {
      "cell_type": "markdown",
      "source": [
        "Assignment 6.1: WAP using function that add all odd numbers from 1 to n, n is given by the user."
      ],
      "metadata": {
        "id": "mCs6tglcd5F4"
      }
    },
    {
      "cell_type": "code",
      "execution_count": 1,
      "metadata": {
        "colab": {
          "base_uri": "https://localhost:8080/"
        },
        "id": "vObXg5oed1Bn",
        "outputId": "127f2daf-3491-483a-debf-5be53fc9d9c6"
      },
      "outputs": [
        {
          "output_type": "stream",
          "name": "stdout",
          "text": [
            "Enter a number: 20\n",
            "Sum of odd numbers from 1 to 20 is 100\n"
          ]
        }
      ],
      "source": [
        "def addOdd(n):\n",
        "  sum = 0\n",
        "  for i in range(1, n+1):\n",
        "    if i % 2 != 0:\n",
        "      sum += i\n",
        "  return sum\n",
        "\n",
        "n = int(input(\"Enter a number: \"))\n",
        "print(\"Sum of odd numbers from 1 to\", n, \"is\", addOdd(n))\n"
      ]
    },
    {
      "cell_type": "markdown",
      "source": [
        "Assignment 6.2: WAP using function that add all prime numbers from 1 to n, n given by the user."
      ],
      "metadata": {
        "id": "3jltnVsReiMA"
      }
    },
    {
      "cell_type": "code",
      "source": [
        "def addPrime(n):\n",
        "  sum = 0\n",
        "  for i in range(2, n//2+1):\n",
        "    if n%i != 0:\n",
        "      sum += i\n",
        "  return sum\n",
        "\n",
        "n = int(input(\"Enter a number: \"))\n",
        "print(\"Sum of prime numbers from 1 to\", n, \"is\", addPrime(n))"
      ],
      "metadata": {
        "colab": {
          "base_uri": "https://localhost:8080/"
        },
        "id": "sRx8SJDVei7X",
        "outputId": "862ab6db-2459-4cf0-a205-7d3219284990"
      },
      "execution_count": 2,
      "outputs": [
        {
          "output_type": "stream",
          "name": "stdout",
          "text": [
            "Enter a number: 20\n",
            "Sum of prime numbers from 1 to 20 is 33\n"
          ]
        }
      ]
    }
  ]
}