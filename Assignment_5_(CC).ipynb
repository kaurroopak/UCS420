{
  "nbformat": 4,
  "nbformat_minor": 0,
  "metadata": {
    "colab": {
      "provenance": [],
      "authorship_tag": "ABX9TyPuysbWuS2H/sMjClhu583p",
      "include_colab_link": true
    },
    "kernelspec": {
      "name": "python3",
      "display_name": "Python 3"
    },
    "language_info": {
      "name": "python"
    }
  },
  "cells": [
    {
      "cell_type": "markdown",
      "metadata": {
        "id": "view-in-github",
        "colab_type": "text"
      },
      "source": [
        "<a href=\"https://colab.research.google.com/github/kaurroopak/UCS712/blob/main/Assignment_5_(CC).ipynb\" target=\"_parent\"><img src=\"https://colab.research.google.com/assets/colab-badge.svg\" alt=\"Open In Colab\"/></a>"
      ]
    },
    {
      "cell_type": "markdown",
      "source": [
        "Assignment 5.1: WAP to find max amoung three numbers and input from user. [Try max() function]"
      ],
      "metadata": {
        "id": "Srr47uKLa3pT"
      }
    },
    {
      "cell_type": "code",
      "execution_count": 1,
      "metadata": {
        "colab": {
          "base_uri": "https://localhost:8080/"
        },
        "id": "86vkwcvyazWE",
        "outputId": "40379f49-7482-4792-99ff-bf5ff6aec408"
      },
      "outputs": [
        {
          "output_type": "stream",
          "name": "stdout",
          "text": [
            "Enter first number: 24\n",
            "Enter second number: 42\n",
            "Enter third number: 12\n",
            "Maximum number is:  42\n"
          ]
        }
      ],
      "source": [
        "num1 = int(input(\"Enter first number: \"))\n",
        "num2 = int(input(\"Enter second number: \"))\n",
        "num3 = int(input(\"Enter third number: \"))\n",
        "ans = max(num1, num2, num3)\n",
        "print(\"Maximum number is: \", ans)"
      ]
    },
    {
      "cell_type": "markdown",
      "source": [
        "Assignment 5.2: WAP to add all numbers divisible by 7 and 9 from 1 to n and n is given by the user."
      ],
      "metadata": {
        "id": "_qS5VCFQbWhh"
      }
    },
    {
      "cell_type": "code",
      "source": [
        "n = int(input(\"Enter a number: \"))\n",
        "sum = 0\n",
        "for i in range(1, n+1):\n",
        "    if i%7 == 0 and i%9 == 0:\n",
        "        sum += i\n",
        "print(\"Sum of all numbers divisible by 7 and 9 is: \", sum)"
      ],
      "metadata": {
        "colab": {
          "base_uri": "https://localhost:8080/"
        },
        "id": "bzugsVwTbZlK",
        "outputId": "91a40d5c-b6cd-4c9b-ab1c-c4d7d2671a79"
      },
      "execution_count": 4,
      "outputs": [
        {
          "output_type": "stream",
          "name": "stdout",
          "text": [
            "Enter a number: 200\n",
            "Sum of all numbers divisible by 7 and 9 is:  378\n"
          ]
        }
      ]
    },
    {
      "cell_type": "markdown",
      "source": [
        "Assignment 5.3: WAP to add all prime numbers from 1 to n and n is given by the user."
      ],
      "metadata": {
        "id": "TkQin_2Yb5K6"
      }
    },
    {
      "cell_type": "code",
      "source": [
        "n = int(input(\"Enter a number: \"))\n",
        "sum = 0\n",
        "for i in range(2, n//2+1):\n",
        "  if n%i != 0:\n",
        "    sum += i\n",
        "print(\"Sum of all prime numbers is:\", sum)\n"
      ],
      "metadata": {
        "colab": {
          "base_uri": "https://localhost:8080/"
        },
        "id": "phJPtEJjb8aK",
        "outputId": "c128ecd9-7925-4e29-b260-a7db4f033ef7"
      },
      "execution_count": 5,
      "outputs": [
        {
          "output_type": "stream",
          "name": "stdout",
          "text": [
            "Enter a number: 20\n",
            "Sum of all prime numbers is: 33\n"
          ]
        }
      ]
    }
  ]
}