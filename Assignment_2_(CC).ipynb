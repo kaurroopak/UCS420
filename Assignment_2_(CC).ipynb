{
  "nbformat": 4,
  "nbformat_minor": 0,
  "metadata": {
    "colab": {
      "provenance": [],
      "authorship_tag": "ABX9TyN3yzWxUtm68qJy8uwdF9Ge",
      "include_colab_link": true
    },
    "kernelspec": {
      "name": "python3",
      "display_name": "Python 3"
    },
    "language_info": {
      "name": "python"
    }
  },
  "cells": [
    {
      "cell_type": "markdown",
      "metadata": {
        "id": "view-in-github",
        "colab_type": "text"
      },
      "source": [
        "<a href=\"https://colab.research.google.com/github/kaurroopak/UCS712/blob/main/Assignment_2_(CC).ipynb\" target=\"_parent\"><img src=\"https://colab.research.google.com/assets/colab-badge.svg\" alt=\"Open In Colab\"/></a>"
      ]
    },
    {
      "cell_type": "markdown",
      "source": [
        "Assingment 2.1: WAP to add three numbers and print the result."
      ],
      "metadata": {
        "id": "As6cmamWX7_s"
      }
    },
    {
      "cell_type": "code",
      "execution_count": 2,
      "metadata": {
        "colab": {
          "base_uri": "https://localhost:8080/"
        },
        "id": "Vqw5yeYnXxmN",
        "outputId": "570e392f-151b-43b6-b190-220938694893"
      },
      "outputs": [
        {
          "output_type": "stream",
          "name": "stdout",
          "text": [
            "Sum of three numbers is: 90\n"
          ]
        }
      ],
      "source": [
        "num1 = 10\n",
        "num2 = 30\n",
        "num3 = 50\n",
        "sum = num1 + num2 + num3\n",
        "print(\"Sum of three numbers is:\", sum)"
      ]
    },
    {
      "cell_type": "markdown",
      "source": [
        "Assingment 2.2: WAP to concatinate three strings and print the result."
      ],
      "metadata": {
        "id": "oxOrQqWWYTBM"
      }
    },
    {
      "cell_type": "code",
      "source": [
        "str1 = \"Hello\"\n",
        "str2 = \"World\"\n",
        "str3= \"!!!!!\"\n",
        "res = str1 + str2 + str3\n",
        "print(\"Concatenated string is:\", res)"
      ],
      "metadata": {
        "colab": {
          "base_uri": "https://localhost:8080/"
        },
        "id": "6JHkmWkRYX3l",
        "outputId": "ed2f8b48-7329-4a81-c1a1-eb5902b1d992"
      },
      "execution_count": 3,
      "outputs": [
        {
          "output_type": "stream",
          "name": "stdout",
          "text": [
            "Concatenated string is: HelloWorld!!!!!\n"
          ]
        }
      ]
    }
  ]
}