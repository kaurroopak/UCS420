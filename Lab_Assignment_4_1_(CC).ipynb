{
  "nbformat": 4,
  "nbformat_minor": 0,
  "metadata": {
    "colab": {
      "provenance": [],
      "authorship_tag": "ABX9TyONxRA0/T4VdPx5KE2KFoT2",
      "include_colab_link": true
    },
    "kernelspec": {
      "name": "python3",
      "display_name": "Python 3"
    },
    "language_info": {
      "name": "python"
    }
  },
  "cells": [
    {
      "cell_type": "markdown",
      "metadata": {
        "id": "view-in-github",
        "colab_type": "text"
      },
      "source": [
        "<a href=\"https://colab.research.google.com/github/kaurroopak/UCS420/blob/main/Lab_Assignment_4_1_(CC).ipynb\" target=\"_parent\"><img src=\"https://colab.research.google.com/assets/colab-badge.svg\" alt=\"Open In Colab\"/></a>"
      ]
    },
    {
      "cell_type": "markdown",
      "source": [
        "#Lab Assignment 4\n",
        "###Submitted by : Roopakjeet Kaur (102497013)"
      ],
      "metadata": {
        "id": "zNhGsSc-dcA9"
      }
    },
    {
      "cell_type": "markdown",
      "source": [
        "Q.1 Write a program to create a NumPy 1D-array with 5 elements and perform basic\n",
        "operations like:\n",
        "\n",
        "a) Addition of 2 in all the element\n",
        "\n",
        "b) Multiply 3 with all the elements\n",
        "\n",
        "c) Divide every element by 2"
      ],
      "metadata": {
        "id": "Yyt6U9KtdmMN"
      }
    },
    {
      "cell_type": "code",
      "execution_count": 1,
      "metadata": {
        "colab": {
          "base_uri": "https://localhost:8080/"
        },
        "id": "UiGhs8-NdVT5",
        "outputId": "616c2016-ebe6-44c4-d1de-7343b53778e7"
      },
      "outputs": [
        {
          "output_type": "stream",
          "name": "stdout",
          "text": [
            "Original array:  [5 6 7 8 9]\n",
            "Array after addition of 2:  [ 7  8  9 10 11]\n",
            "Array after multiplication of 3:  [15 18 21 24 27]\n",
            "Array after division by 2:  [2.5 3.  3.5 4.  4.5]\n"
          ]
        }
      ],
      "source": [
        "import numpy as np\n",
        "a = np.array([5,6,7,8,9])\n",
        "print(\"Original array: \", a)\n",
        "\n",
        "res1 = a+2\n",
        "print(\"Array after addition of 2: \", res1)\n",
        "\n",
        "res2 = a*3\n",
        "print(\"Array after multiplication of 3: \", res2)\n",
        "\n",
        "res3 = a/2\n",
        "print(\"Array after division by 2: \", res3)"
      ]
    },
    {
      "cell_type": "markdown",
      "source": [
        "Q.2 Questions on Basic NumPy Array:\n",
        "\n",
        "a) Reverse the NumPy array: arr = np.array([1, 2, 3, 6, 4, 5])\n",
        "\n",
        "b) Find the most frequent value and their indice(s) in the following arrays:\n",
        "\n",
        "i. x = np.array([1,2,3,4,5,1,2,1,1,1])\n",
        "\n",
        "ii. y = np.array([1, 1, 1, 2, 3, 4, 2, 4, 3, 3, ])"
      ],
      "metadata": {
        "id": "qeAqENV1hFhp"
      }
    },
    {
      "cell_type": "code",
      "source": [
        "arr = np.array([1, 2, 3, 6, 4, 5])\n",
        "print(\"Original array 'arr': \", arr)\n",
        "\n",
        "# reverse\n",
        "rev_arr = arr[::-1]\n",
        "print(\"Reversed array: \", rev_arr)\n",
        "\n",
        "# most frequent\n",
        "x = np.array([1,2,3,4,5,1,2,1,1,1])\n",
        "print(\"\\nOriginal array 'x': \", x)\n",
        "print(\"Most frequent value: \", np.bincount(x).argmax())\n",
        "\n",
        "y = np.array([1, 1, 1, 2, 3, 4, 2, 4, 3, 3, ])\n",
        "print(\"\\nOriginal array 'y': \", y)\n",
        "print(\"Most frequent value: \", np.bincount(y).argmax())"
      ],
      "metadata": {
        "colab": {
          "base_uri": "https://localhost:8080/"
        },
        "id": "KLvG1sYEhOHq",
        "outputId": "f829b47a-39b8-4071-97b3-8c3046b8719b"
      },
      "execution_count": 2,
      "outputs": [
        {
          "output_type": "stream",
          "name": "stdout",
          "text": [
            "Original array 'arr':  [1 2 3 6 4 5]\n",
            "Reversed array:  [5 4 6 3 2 1]\n",
            "\n",
            "Original array 'x':  [1 2 3 4 5 1 2 1 1 1]\n",
            "Most frequent value:  1\n",
            "\n",
            "Original array 'y':  [1 1 1 2 3 4 2 4 3 3]\n",
            "Most frequent value:  1\n"
          ]
        }
      ]
    },
    {
      "cell_type": "markdown",
      "source": [
        "Q.3 For the given 2-D array arr=np.array([10, 20, 30], [40, 50, 60], [70, 80, 90]), access\n",
        "elements using row and column indices as follows:\n",
        "\n",
        "a) Access 1st row, 2nd column\n",
        "\n",
        "b) Access 3rd row, 1st column"
      ],
      "metadata": {
        "id": "yVjZC2aNi92C"
      }
    },
    {
      "cell_type": "code",
      "source": [
        "arr_2d = np.array([[10, 20, 30], [40, 50, 60], [70, 80, 90]])\n",
        "print(\"Original array: \\n\", arr_2d)\n",
        "\n",
        "# access 1st row, 2nd column\n",
        "print(\"\\nElement at 1st row, 2nd column: \", arr_2d[0,1])\n",
        "\n",
        "# access 3rd row, 1st column\n",
        "print(\"Element at 3rd row, 1st column: \", arr_2d[2,0])"
      ],
      "metadata": {
        "colab": {
          "base_uri": "https://localhost:8080/"
        },
        "id": "ekxe7qZCjELo",
        "outputId": "61f94077-0792-4430-9e53-f54150d40807"
      },
      "execution_count": 3,
      "outputs": [
        {
          "output_type": "stream",
          "name": "stdout",
          "text": [
            "Original array: \n",
            " [[10 20 30]\n",
            " [40 50 60]\n",
            " [70 80 90]]\n",
            "\n",
            "Element at 1st row, 2nd column:  20\n",
            "Element at 3rd row, 1st column:  70\n"
          ]
        }
      ]
    },
    {
      "cell_type": "markdown",
      "source": [
        "Q.4 Write program to create an 1-D NumPy array named <(Your Name)> with evenly spaced 25 numbers from 10 to 100 using linspace().\n",
        "\n",
        "Print the dimensions of the array, shape, total elements, the data type of each element and total number of bytes consumed by the array.\n",
        "\n",
        "Find the transpose of this array using reshape() attribute. Can we do the same\n",
        "with T attribute?"
      ],
      "metadata": {
        "id": "A1kwK-yASupl"
      }
    },
    {
      "cell_type": "code",
      "source": [
        "roopak_arr = np.linspace(10,100,25)\n",
        "print(\"Original array:\\n\", roopak_arr)\n",
        "\n",
        "print(\"\\nDimensions of the array: \", roopak_arr.ndim)     #dimesnsion\n",
        "print(\"Shape of the array: \", roopak_arr.shape)           #shape\n",
        "print(\"Total elements in the array: \", roopak_arr.size)   #total elements\n",
        "print(\"Data type of each element: \", roopak_arr.dtype)    #data type\n",
        "\n",
        "#reshaping to find transpose\n",
        "roopak_reshaped = roopak_arr.reshape(25,1)\n",
        "print(\"\\nReshaped (Transpose) array: \\n\", roopak_reshaped)\n",
        "\n",
        "#transpose\n",
        "roopak_transpose = roopak_arr.T\n",
        "print(\"\\nTranspose of the array: \\n\", roopak_transpose)\n",
        "#The .T attribute does not affect the original 1-D array since transposition only changes multi-dimensional arrays."
      ],
      "metadata": {
        "colab": {
          "base_uri": "https://localhost:8080/"
        },
        "id": "XiEXK8oPSz-8",
        "outputId": "975e3a09-bb6b-4c53-f1c4-f6c80071c028"
      },
      "execution_count": 11,
      "outputs": [
        {
          "output_type": "stream",
          "name": "stdout",
          "text": [
            "Original array:\n",
            " [ 10.    13.75  17.5   21.25  25.    28.75  32.5   36.25  40.    43.75\n",
            "  47.5   51.25  55.    58.75  62.5   66.25  70.    73.75  77.5   81.25\n",
            "  85.    88.75  92.5   96.25 100.  ]\n",
            "\n",
            "Dimensions of the array:  1\n",
            "Shape of the array:  (25,)\n",
            "Total elements in the array:  25\n",
            "Data type of each element:  float64\n",
            "\n",
            "Reshaped (Transpose) array: \n",
            " [[ 10.  ]\n",
            " [ 13.75]\n",
            " [ 17.5 ]\n",
            " [ 21.25]\n",
            " [ 25.  ]\n",
            " [ 28.75]\n",
            " [ 32.5 ]\n",
            " [ 36.25]\n",
            " [ 40.  ]\n",
            " [ 43.75]\n",
            " [ 47.5 ]\n",
            " [ 51.25]\n",
            " [ 55.  ]\n",
            " [ 58.75]\n",
            " [ 62.5 ]\n",
            " [ 66.25]\n",
            " [ 70.  ]\n",
            " [ 73.75]\n",
            " [ 77.5 ]\n",
            " [ 81.25]\n",
            " [ 85.  ]\n",
            " [ 88.75]\n",
            " [ 92.5 ]\n",
            " [ 96.25]\n",
            " [100.  ]]\n",
            "\n",
            "Transpose of the array: \n",
            " [ 10.    13.75  17.5   21.25  25.    28.75  32.5   36.25  40.    43.75\n",
            "  47.5   51.25  55.    58.75  62.5   66.25  70.    73.75  77.5   81.25\n",
            "  85.    88.75  92.5   96.25 100.  ]\n"
          ]
        }
      ]
    },
    {
      "cell_type": "markdown",
      "source": [
        "Q5. Create a 2-D Array of three rows and four columns, named ucs420_<(your_name)> with following values – 10, 20, 30, 40, 50, 60, 70, 80, 90, 15, 20, 35.\n",
        "\n",
        "Compute the mean,median, max, min, unique elements.\n",
        "\n",
        "Reshape the array to four rows and three columns and name it as reshaped_ ucs420_<(your_name)>.\n",
        "\n",
        "Resize the array to two rows and three columns and name it as resized_ ucs420_<(your_name)>."
      ],
      "metadata": {
        "id": "hKGK7_DTWFC-"
      }
    },
    {
      "cell_type": "code",
      "source": [
        "ucs420_roopak = np.array([[10,20,30,40],\n",
        "                          [50,60,70,80],\n",
        "                          [90,15,20,35]])\n",
        "print(\"Original array: \\n\", ucs420_roopak)\n",
        "\n",
        "mean_value = np.mean(ucs420_roopak)   #mean\n",
        "print(\"\\nMean is: \", mean_value)\n",
        "\n",
        "median_value = np.median(ucs420_roopak)    #median\n",
        "print(\"Median is: \", median_value)\n",
        "\n",
        "max_value = np.max(ucs420_roopak)   #max\n",
        "print(\"Max value is: \", max_value)\n",
        "\n",
        "min_value = np.min(ucs420_roopak)   #min\n",
        "print(\"Min value is: \", min_value)\n",
        "\n",
        "unique_elements = np.unique(ucs420_roopak)   #unique\n",
        "print(\"Unique elements are: \", unique_elements)\n",
        "\n",
        "#reshape to 4 rows and 3 columns\n",
        "reshaped_ucs420_roopak = ucs420_roopak.reshape(4,3)\n",
        "print(\"\\nReshaped array (4x3): \\n\", reshaped_ucs420_roopak)\n",
        "\n",
        "#resize to 2 rows and 3 columns\n",
        "resized_ucs420_roopak = np.resize(ucs420_roopak, (2,3))\n",
        "print(\"\\nResized array (2x3): \\n\", resized_ucs420_roopak)"
      ],
      "metadata": {
        "colab": {
          "base_uri": "https://localhost:8080/"
        },
        "id": "JxSrEsQpXXyW",
        "outputId": "44cce6a8-9690-419a-b407-242ac9e0fe60"
      },
      "execution_count": 18,
      "outputs": [
        {
          "output_type": "stream",
          "name": "stdout",
          "text": [
            "Original array: \n",
            " [[10 20 30 40]\n",
            " [50 60 70 80]\n",
            " [90 15 20 35]]\n",
            "\n",
            "Mean is:  43.333333333333336\n",
            "Median is:  37.5\n",
            "Max value is:  90\n",
            "Min value is:  10\n",
            "Unique elements are:  [10 15 20 30 35 40 50 60 70 80 90]\n",
            "\n",
            "Reshaped array (4x3): \n",
            " [[10 20 30]\n",
            " [40 50 60]\n",
            " [70 80 90]\n",
            " [15 20 35]]\n",
            "\n",
            "Resized array (2x3): \n",
            " [[10 20 30]\n",
            " [40 50 60]]\n"
          ]
        }
      ]
    }
  ]
}