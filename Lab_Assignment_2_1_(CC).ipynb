{
  "nbformat": 4,
  "nbformat_minor": 0,
  "metadata": {
    "colab": {
      "provenance": [],
      "authorship_tag": "ABX9TyN5D4c0JiY2kNu9NaWaJF4F",
      "include_colab_link": true
    },
    "kernelspec": {
      "name": "python3",
      "display_name": "Python 3"
    },
    "language_info": {
      "name": "python"
    }
  },
  "cells": [
    {
      "cell_type": "markdown",
      "metadata": {
        "id": "view-in-github",
        "colab_type": "text"
      },
      "source": [
        "<a href=\"https://colab.research.google.com/github/kaurroopak/UCS420/blob/main/Lab_Assignment_2_1_(CC).ipynb\" target=\"_parent\"><img src=\"https://colab.research.google.com/assets/colab-badge.svg\" alt=\"Open In Colab\"/></a>"
      ]
    },
    {
      "cell_type": "markdown",
      "source": [
        "#Lab Assignment 2\n",
        "####Submitted by - Roopakjeet Kaur (102497013)"
      ],
      "metadata": {
        "id": "Fg0rgVvqZUfe"
      }
    },
    {
      "cell_type": "markdown",
      "source": [
        "1. Create a List L that is defined as= [10, 20, 30, 40, 50, 60, 70, 80].\n",
        "i. WAP to add 200 and 300 to L.\n",
        "ii. WAP to remove 10 and 30 from L.\n",
        "iii. WAP to sort L in ascending order.\n",
        "iv. WAP to sort L in descending order."
      ],
      "metadata": {
        "id": "p4LyOVfcZj8s"
      }
    },
    {
      "cell_type": "code",
      "execution_count": 12,
      "metadata": {
        "colab": {
          "base_uri": "https://localhost:8080/"
        },
        "id": "2jM-hgvNX6nJ",
        "outputId": "a480cebe-ec7f-43e4-e0d4-de7fc2e1bf5f"
      },
      "outputs": [
        {
          "output_type": "stream",
          "name": "stdout",
          "text": [
            "Original list:  [10, 20, 30, 40, 50, 60, 70, 80]\n",
            "List after addin elements:  [10, 20, 30, 40, 50, 60, 70, 80, 200, 300]\n",
            "List after removing elements:  [20, 40, 50, 60, 70, 80, 200, 300]\n",
            "Sorted list in ascending order:  [20, 40, 50, 60, 70, 80, 200, 300]\n",
            "Sorted list in descending order:  [300, 200, 80, 70, 60, 50, 40, 20]\n"
          ]
        }
      ],
      "source": [
        "list1 = [10,20,30,40,50,60,70,80]\n",
        "print(\"Original list: \", list1)\n",
        "\n",
        "#add element using extend\n",
        "list1.extend([200,300])\n",
        "print(\"List after addin elements: \", list1)\n",
        "\n",
        "#remove element using remove\n",
        "list1.remove(10)\n",
        "list1.remove(30)\n",
        "print(\"List after removing elements: \", list1)\n",
        "\n",
        "#sort in ascending order\n",
        "list1.sort()\n",
        "print(\"Sorted list in ascending order: \", list1)\n",
        "\n",
        "#sort in descending order\n",
        "list1.sort(reverse=True)\n",
        "print(\"Sorted list in descending order: \", list1)"
      ]
    },
    {
      "cell_type": "markdown",
      "source": [
        "2. Create a tuple of marks scored as scores = (45, 89.5, 76, 45.4, 89, 92, 58, 45) and\n",
        "perform the following operations using tuple functions:\n",
        "i. Identify the highest score and its index in the tuple.\n",
        "ii. Find the lowest score and count how many times it appears.\n",
        "iii. Reverse the tuple and return it as a list.\n",
        "iv. Check if a specific score ‘76’ (input by the user) is present in the tuple and\n",
        "print its first occurrence index, or a message saying it’s not present."
      ],
      "metadata": {
        "id": "DZ0QwrQSaisk"
      }
    },
    {
      "cell_type": "code",
      "source": [
        "scores = (45, 89.5, 76, 45.4, 89, 92, 58, 45)\n",
        "\n",
        "#highest score and its index\n",
        "print(\"Highest score: \", max(scores))\n",
        "print(\"Index: \", scores.index(max(scores)))\n",
        "\n",
        "#lowest score and count\n",
        "print(\"\\nLowest score: \", min(scores))\n",
        "print(\"Count: \", scores.count(min(scores)))\n",
        "\n",
        "#reverse the tuple and return it as a list\n",
        "print(\"\\nReversed tuple as list: \", list(reversed(scores)))\n",
        "\n",
        "#Check if a specific score ‘76’ (input by the user) is present in the tuple and print its first occurrence index\n",
        "check_score = int(input(\"\\nEnter a score to check: \"))\n",
        "if check_score in scores:\n",
        "  print(\"Score found at index: \", scores.index(check_score))\n",
        "else:\n",
        "  print(\"Score not found\")"
      ],
      "metadata": {
        "colab": {
          "base_uri": "https://localhost:8080/"
        },
        "id": "iWk0T9dFaiKM",
        "outputId": "5e2a9f16-6068-4461-ca2f-8c5033a6f704"
      },
      "execution_count": null,
      "outputs": [
        {
          "output_type": "stream",
          "name": "stdout",
          "text": [
            "Highest score:  92\n",
            "Index:  5\n",
            "\n",
            "Lowest score:  45\n",
            "Count:  2\n",
            "\n",
            "Reversed tuple as list:  [45, 58, 92, 89, 45.4, 76, 89.5, 45]\n",
            "\n",
            "Enter a score to check: 76\n",
            "Score found at index:  2\n"
          ]
        }
      ]
    },
    {
      "cell_type": "markdown",
      "source": [
        "3. WAP to create a list of 100 random numbers between 100 and 900. Count and print\n",
        "the:\n",
        "i. All odd numbers\n",
        "ii. All even numbers\n",
        "iii. All prime numbers"
      ],
      "metadata": {
        "id": "vxJ_ESWudkrs"
      }
    },
    {
      "cell_type": "code",
      "source": [
        "#program  to create a list of 100 random numbers between 100 and 900\n",
        "import random\n",
        "\n",
        "random_list = random.sample(range(100,900),100)\n",
        "print(random_list)\n",
        "\n",
        "#odd numbers\n",
        "print(\"\\nOdd numbers:\")\n",
        "for i in random_list:\n",
        "  if i%2 != 0:\n",
        "    print(i, end=', ')\n",
        "\n",
        "#even numbers\n",
        "print(\"\\nEven numbers:\")\n",
        "for i in random_list:\n",
        "  if i%2 == 0:\n",
        "    print(i, end=', ')\n",
        "\n",
        "#prime numbers\n",
        "print(\"\\nPrime numbers:\")\n",
        "for i in random_list:\n",
        "  if i > 1:\n",
        "    for j in range(2,i):\n",
        "      if i%j == 0:\n",
        "        break\n",
        "    else:\n",
        "      print(i, end=', ')"
      ],
      "metadata": {
        "id": "hsO1_fnUcUum",
        "colab": {
          "base_uri": "https://localhost:8080/"
        },
        "outputId": "27f920c7-41f7-460c-d227-315910c82084"
      },
      "execution_count": null,
      "outputs": [
        {
          "output_type": "stream",
          "name": "stdout",
          "text": [
            "[662, 482, 520, 859, 189, 612, 728, 769, 670, 246, 436, 578, 216, 652, 306, 700, 234, 248, 630, 610, 564, 485, 420, 128, 891, 218, 543, 510, 366, 590, 240, 694, 866, 576, 457, 825, 778, 895, 878, 346, 106, 601, 742, 511, 836, 771, 448, 330, 408, 831, 130, 149, 751, 353, 870, 747, 107, 397, 337, 432, 791, 685, 241, 118, 840, 395, 222, 835, 117, 714, 653, 631, 569, 514, 738, 585, 440, 801, 765, 267, 419, 439, 899, 434, 339, 186, 230, 102, 476, 138, 812, 740, 813, 723, 816, 529, 401, 678, 565, 110]\n",
            "\n",
            "Odd numbers:\n",
            "859, 189, 769, 485, 891, 543, 457, 825, 895, 601, 511, 771, 831, 149, 751, 353, 747, 107, 397, 337, 791, 685, 241, 395, 835, 117, 653, 631, 569, 585, 801, 765, 267, 419, 439, 899, 339, 813, 723, 529, 401, 565, \n",
            "Even numbers:\n",
            "662, 482, 520, 612, 728, 670, 246, 436, 578, 216, 652, 306, 700, 234, 248, 630, 610, 564, 420, 128, 218, 510, 366, 590, 240, 694, 866, 576, 778, 878, 346, 106, 742, 836, 448, 330, 408, 130, 870, 432, 118, 840, 222, 714, 514, 738, 440, 434, 186, 230, 102, 476, 138, 812, 740, 816, 678, 110, \n",
            "Prime numbers:\n",
            "859, 769, 457, 601, 149, 751, 353, 107, 397, 337, 241, 653, 631, 569, 419, 439, 401, "
          ]
        }
      ]
    },
    {
      "cell_type": "markdown",
      "source": [
        "4. Consider the following two sets, A and B, representing scores of two teams in multiple matches.\n",
        "A = {34, 56, 78, 90} and B = {78, 45, 90, 23}\n",
        "WAP to perform the following operations using set functions:\n",
        "i. Find the unique scores achieved by both teams (union of sets).\n",
        "ii. Identify the scores that are common to both teams (intersection of sets).\n",
        "iii. Find the scores that are exclusive to each team (symmetric difference).\n",
        "iv. Check if the scores of team A are a subset of team B, and if team B's scores are a superset of team A.\n",
        "v. Remove a specific score X (input by the user) from set A if it exists. If not, print a message saying it is not present."
      ],
      "metadata": {
        "id": "obW5qMqufRgr"
      }
    },
    {
      "cell_type": "code",
      "source": [
        "setA = {34,56,78,90}\n",
        "setB = {78,45,90,23}\n",
        "\n",
        "#union\n",
        "print(\"Unique scores achieved by both teams = \", setA.union(setB))\n",
        "\n",
        "#intersection\n",
        "print(\"\\nScores that are common to both teams = \", setA.intersection(setB))\n",
        "\n",
        "#symmetric difference\n",
        "print(\"\\nScores that are exclusive to each team = \", setA.symmetric_difference(setB))\n",
        "\n",
        "#subset\n",
        "print(\"\\nIs setA a subset of setB? \", setA.issubset(setB))\n",
        "print(\"Is setB a superset of setA? \", setB.issuperset(setA))\n",
        "\n",
        "#remove specific score x (input by user)\n",
        "x = int(input(\"\\nEnter a score to remove from setA: \"))\n",
        "if x in setA:\n",
        "  setA.remove(x)\n",
        "  print(setA)"
      ],
      "metadata": {
        "colab": {
          "base_uri": "https://localhost:8080/"
        },
        "id": "D6HFxqDKqgrR",
        "outputId": "fea1bd61-e6af-4de2-8386-1a5545806031"
      },
      "execution_count": 4,
      "outputs": [
        {
          "output_type": "stream",
          "name": "stdout",
          "text": [
            "Unique scores achieved by both teams =  {34, 45, 78, 23, 56, 90}\n",
            "\n",
            "Scores that are common to both teams =  {90, 78}\n",
            "\n",
            "Scores that are exclusive to each team =  {34, 45, 23, 56}\n",
            "\n",
            "Is setA a subset of setB?  False\n",
            "Is setB a superset of setA?  False\n",
            "\n",
            "Enter a score to remove from setA: 34\n",
            "{56, 90, 78}\n"
          ]
        }
      ]
    },
    {
      "cell_type": "markdown",
      "source": [
        "5. Write a program to rename a key city to a locaƟon in the following dictionary.\n",
        "Sample_dict = {\"name\":\"kelly\", \"age\":25, \"salary\":8000, \"city\":\"New York\"}"
      ],
      "metadata": {
        "id": "WM05vjsPsIRy"
      }
    },
    {
      "cell_type": "code",
      "source": [
        "dict1 = {\"name\":\"kelly\", \"age\":25, \"salary\":8000, \"city\":\"New York\"}\n",
        "print(\"Original dictionary: \\n\", dict1)\n",
        "\n",
        "dict1[\"location\"] = dict1.pop(\"city\")\n",
        "print(\"\\nDictionary after renaming: \\n\", dict1)"
      ],
      "metadata": {
        "colab": {
          "base_uri": "https://localhost:8080/"
        },
        "id": "ZtHNRgM_sl1n",
        "outputId": "9d7b8174-67b5-4878-a5dd-a62f145f970a"
      },
      "execution_count": 8,
      "outputs": [
        {
          "output_type": "stream",
          "name": "stdout",
          "text": [
            "Original dictionary: \n",
            " {'name': 'kelly', 'age': 25, 'salary': 8000, 'city': 'New York'}\n",
            "\n",
            "Dictionary after renaming: \n",
            " {'name': 'kelly', 'age': 25, 'salary': 8000, 'location': 'New York'}\n"
          ]
        }
      ]
    }
  ]
}