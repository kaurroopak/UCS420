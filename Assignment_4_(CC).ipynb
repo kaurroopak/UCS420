{
  "nbformat": 4,
  "nbformat_minor": 0,
  "metadata": {
    "colab": {
      "provenance": [],
      "authorship_tag": "ABX9TyPqIJ1QMp9v+qvWI1omr/gt",
      "include_colab_link": true
    },
    "kernelspec": {
      "name": "python3",
      "display_name": "Python 3"
    },
    "language_info": {
      "name": "python"
    }
  },
  "cells": [
    {
      "cell_type": "markdown",
      "metadata": {
        "id": "view-in-github",
        "colab_type": "text"
      },
      "source": [
        "<a href=\"https://colab.research.google.com/github/kaurroopak/UCS712/blob/main/Assignment_4_(CC).ipynb\" target=\"_parent\"><img src=\"https://colab.research.google.com/assets/colab-badge.svg\" alt=\"Open In Colab\"/></a>"
      ]
    },
    {
      "cell_type": "markdown",
      "source": [
        "Assingment 4.1: WAP to print the table of 7, 9."
      ],
      "metadata": {
        "id": "aRN0Q3AjZNjG"
      }
    },
    {
      "cell_type": "code",
      "execution_count": 1,
      "metadata": {
        "colab": {
          "base_uri": "https://localhost:8080/"
        },
        "id": "Re6WS5a8ZEvC",
        "outputId": "72154ec6-ede6-4f55-95b9-eb60568faa77"
      },
      "outputs": [
        {
          "output_type": "stream",
          "name": "stdout",
          "text": [
            "7 * 1 = 7\n",
            "7 * 2 = 14\n",
            "7 * 3 = 21\n",
            "7 * 4 = 28\n",
            "7 * 5 = 35\n",
            "7 * 6 = 42\n",
            "7 * 7 = 49\n",
            "7 * 8 = 56\n",
            "7 * 9 = 63\n",
            "7 * 10 = 70\n"
          ]
        }
      ],
      "source": [
        "#Table of 7\n",
        "for i in range(1,11):\n",
        "    print(\"7 *\",i,\"=\",7*i)"
      ]
    },
    {
      "cell_type": "code",
      "source": [
        "#Table of 9\n",
        "for i in range(1,11):\n",
        "    print(\"9 *\",i,\"=\",9*i)"
      ],
      "metadata": {
        "colab": {
          "base_uri": "https://localhost:8080/"
        },
        "id": "8C-tHtuLZkoc",
        "outputId": "3a42e1fd-985c-446f-a7cb-6a494328ab7d"
      },
      "execution_count": 2,
      "outputs": [
        {
          "output_type": "stream",
          "name": "stdout",
          "text": [
            "9 * 1 = 9\n",
            "9 * 2 = 18\n",
            "9 * 3 = 27\n",
            "9 * 4 = 36\n",
            "9 * 5 = 45\n",
            "9 * 6 = 54\n",
            "9 * 7 = 63\n",
            "9 * 8 = 72\n",
            "9 * 9 = 81\n",
            "9 * 10 = 90\n"
          ]
        }
      ]
    },
    {
      "cell_type": "markdown",
      "source": [
        "Assingment 4.2: WAP to print the table of n and n is given by user."
      ],
      "metadata": {
        "id": "WdRQ2CqHZqaD"
      }
    },
    {
      "cell_type": "code",
      "source": [
        "n = int(input(\"Enter the number: \"))\n",
        "for i in range(1,11):\n",
        "    print(n,\"*\",i,\"=\",n*i)"
      ],
      "metadata": {
        "colab": {
          "base_uri": "https://localhost:8080/"
        },
        "id": "9plJRT2KZuPj",
        "outputId": "81aa5cad-1563-4166-d536-44a6a3393e8f"
      },
      "execution_count": 3,
      "outputs": [
        {
          "output_type": "stream",
          "name": "stdout",
          "text": [
            "Enter the number: 13\n",
            "13 * 1 = 13\n",
            "13 * 2 = 26\n",
            "13 * 3 = 39\n",
            "13 * 4 = 52\n",
            "13 * 5 = 65\n",
            "13 * 6 = 78\n",
            "13 * 7 = 91\n",
            "13 * 8 = 104\n",
            "13 * 9 = 117\n",
            "13 * 10 = 130\n"
          ]
        }
      ]
    },
    {
      "cell_type": "markdown",
      "source": [
        "Assingment 4.3: WAP to add all the numbers from 1 to n and n is given by user."
      ],
      "metadata": {
        "id": "mPNuRd8nZ-nT"
      }
    },
    {
      "cell_type": "code",
      "source": [
        "n = int(input(\"Enter the number: \"))\n",
        "sum = 0\n",
        "for i in range(1,n+1):\n",
        "    sum = sum + i\n",
        "print(\"Sum of numbers from 1 to\",n,\"is = \",sum)"
      ],
      "metadata": {
        "colab": {
          "base_uri": "https://localhost:8080/"
        },
        "id": "upAiefMbZ6Cr",
        "outputId": "ea9f2c92-96ca-4597-f782-ae81f8ae47ed"
      },
      "execution_count": 5,
      "outputs": [
        {
          "output_type": "stream",
          "name": "stdout",
          "text": [
            "Enter the number: 9\n",
            "Sum of numbers from 1 to 9 is =  45\n"
          ]
        }
      ]
    }
  ]
}