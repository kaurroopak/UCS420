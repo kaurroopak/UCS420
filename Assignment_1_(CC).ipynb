{
  "nbformat": 4,
  "nbformat_minor": 0,
  "metadata": {
    "colab": {
      "provenance": [],
      "authorship_tag": "ABX9TyOJvViyJb0Gz0sTVrlpmEiD",
      "include_colab_link": true
    },
    "kernelspec": {
      "name": "python3",
      "display_name": "Python 3"
    },
    "language_info": {
      "name": "python"
    }
  },
  "cells": [
    {
      "cell_type": "markdown",
      "metadata": {
        "id": "view-in-github",
        "colab_type": "text"
      },
      "source": [
        "<a href=\"https://colab.research.google.com/github/kaurroopak/UCS712/blob/main/Assignment_1_(CC).ipynb\" target=\"_parent\"><img src=\"https://colab.research.google.com/assets/colab-badge.svg\" alt=\"Open In Colab\"/></a>"
      ]
    },
    {
      "cell_type": "markdown",
      "source": [
        "Assingment 1.1: WAP to print your name three times"
      ],
      "metadata": {
        "id": "ENeJgxSEVg3I"
      }
    },
    {
      "cell_type": "code",
      "execution_count": 1,
      "metadata": {
        "colab": {
          "base_uri": "https://localhost:8080/"
        },
        "id": "ZyiEG1VKVN7Q",
        "outputId": "8cb44f2f-d954-418e-a1a8-ef0eb0996454"
      },
      "outputs": [
        {
          "output_type": "stream",
          "name": "stdout",
          "text": [
            "Roopakjeet Kaur\n",
            "Roopakjeet Kaur\n",
            "Roopakjeet Kaur\n"
          ]
        }
      ],
      "source": [
        "name = \"Roopakjeet Kaur\"\n",
        "for i in range(3):\n",
        "    print(name)"
      ]
    }
  ]
}